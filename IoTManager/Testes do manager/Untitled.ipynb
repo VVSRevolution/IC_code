{
 "cells": [
  {
   "cell_type": "code",
   "execution_count": 2,
   "id": "b8da2693-e420-4bc4-bedf-95e48b3a8882",
   "metadata": {},
   "outputs": [
    {
     "name": "stderr",
     "output_type": "stream",
     "text": [
      "No protocol specified\n"
     ]
    },
    {
     "ename": "ImportError",
     "evalue": "Cannot load backend 'TkAgg' which requires the 'tk' interactive framework, as 'headless' is currently running",
     "output_type": "error",
     "traceback": [
      "\u001b[0;31m---------------------------------------------------------------------------\u001b[0m",
      "\u001b[0;31mImportError\u001b[0m                               Traceback (most recent call last)",
      "Cell \u001b[0;32mIn[2], line 5\u001b[0m\n\u001b[1;32m      3\u001b[0m \u001b[38;5;28;01mfrom\u001b[39;00m \u001b[38;5;21;01mcollections\u001b[39;00m \u001b[38;5;28;01mimport\u001b[39;00m defaultdict\n\u001b[1;32m      4\u001b[0m \u001b[38;5;28;01mimport\u001b[39;00m \u001b[38;5;21;01mmatplotlib\u001b[39;00m\n\u001b[0;32m----> 5\u001b[0m \u001b[43mmatplotlib\u001b[49m\u001b[38;5;241;43m.\u001b[39;49m\u001b[43muse\u001b[49m\u001b[43m(\u001b[49m\u001b[38;5;124;43m'\u001b[39;49m\u001b[38;5;124;43mTkAgg\u001b[39;49m\u001b[38;5;124;43m'\u001b[39;49m\u001b[43m)\u001b[49m\n\u001b[1;32m      6\u001b[0m \u001b[38;5;66;03m# Dicionário para armazenar os valores numéricos agrupados por número de barras\u001b[39;00m\n\u001b[1;32m      7\u001b[0m valores_agrupados \u001b[38;5;241m=\u001b[39m defaultdict(\u001b[38;5;28mlist\u001b[39m)\n",
      "File \u001b[0;32m~/.local/lib/python3.10/site-packages/matplotlib/__init__.py:1237\u001b[0m, in \u001b[0;36muse\u001b[0;34m(backend, force)\u001b[0m\n\u001b[1;32m   1232\u001b[0m \u001b[38;5;28;01mif\u001b[39;00m plt \u001b[38;5;129;01mis\u001b[39;00m \u001b[38;5;129;01mnot\u001b[39;00m \u001b[38;5;28;01mNone\u001b[39;00m:\n\u001b[1;32m   1233\u001b[0m     \u001b[38;5;28;01mtry\u001b[39;00m:\n\u001b[1;32m   1234\u001b[0m         \u001b[38;5;66;03m# we need this import check here to re-raise if the\u001b[39;00m\n\u001b[1;32m   1235\u001b[0m         \u001b[38;5;66;03m# user does not have the libraries to support their\u001b[39;00m\n\u001b[1;32m   1236\u001b[0m         \u001b[38;5;66;03m# chosen backend installed.\u001b[39;00m\n\u001b[0;32m-> 1237\u001b[0m         \u001b[43mplt\u001b[49m\u001b[38;5;241;43m.\u001b[39;49m\u001b[43mswitch_backend\u001b[49m\u001b[43m(\u001b[49m\u001b[43mname\u001b[49m\u001b[43m)\u001b[49m\n\u001b[1;32m   1238\u001b[0m     \u001b[38;5;28;01mexcept\u001b[39;00m \u001b[38;5;167;01mImportError\u001b[39;00m:\n\u001b[1;32m   1239\u001b[0m         \u001b[38;5;28;01mif\u001b[39;00m force:\n",
      "File \u001b[0;32m~/.local/lib/python3.10/site-packages/matplotlib/pyplot.py:279\u001b[0m, in \u001b[0;36mswitch_backend\u001b[0;34m(newbackend)\u001b[0m\n\u001b[1;32m    276\u001b[0m     current_framework \u001b[38;5;241m=\u001b[39m cbook\u001b[38;5;241m.\u001b[39m_get_running_interactive_framework()\n\u001b[1;32m    277\u001b[0m     \u001b[38;5;28;01mif\u001b[39;00m (current_framework \u001b[38;5;129;01mand\u001b[39;00m required_framework\n\u001b[1;32m    278\u001b[0m             \u001b[38;5;129;01mand\u001b[39;00m current_framework \u001b[38;5;241m!=\u001b[39m required_framework):\n\u001b[0;32m--> 279\u001b[0m         \u001b[38;5;28;01mraise\u001b[39;00m \u001b[38;5;167;01mImportError\u001b[39;00m(\n\u001b[1;32m    280\u001b[0m             \u001b[38;5;124m\"\u001b[39m\u001b[38;5;124mCannot load backend \u001b[39m\u001b[38;5;132;01m{!r}\u001b[39;00m\u001b[38;5;124m which requires the \u001b[39m\u001b[38;5;132;01m{!r}\u001b[39;00m\u001b[38;5;124m interactive \u001b[39m\u001b[38;5;124m\"\u001b[39m\n\u001b[1;32m    281\u001b[0m             \u001b[38;5;124m\"\u001b[39m\u001b[38;5;124mframework, as \u001b[39m\u001b[38;5;132;01m{!r}\u001b[39;00m\u001b[38;5;124m is currently running\u001b[39m\u001b[38;5;124m\"\u001b[39m\u001b[38;5;241m.\u001b[39mformat(\n\u001b[1;32m    282\u001b[0m                 newbackend, required_framework, current_framework))\n\u001b[1;32m    284\u001b[0m \u001b[38;5;66;03m# Load the new_figure_manager() and show() functions from the backend.\u001b[39;00m\n\u001b[1;32m    285\u001b[0m \n\u001b[1;32m    286\u001b[0m \u001b[38;5;66;03m# Classically, backends can directly export these functions.  This should\u001b[39;00m\n\u001b[1;32m    287\u001b[0m \u001b[38;5;66;03m# keep working for backcompat.\u001b[39;00m\n\u001b[1;32m    288\u001b[0m new_figure_manager \u001b[38;5;241m=\u001b[39m \u001b[38;5;28mgetattr\u001b[39m(backend_mod, \u001b[38;5;124m\"\u001b[39m\u001b[38;5;124mnew_figure_manager\u001b[39m\u001b[38;5;124m\"\u001b[39m, \u001b[38;5;28;01mNone\u001b[39;00m)\n",
      "\u001b[0;31mImportError\u001b[0m: Cannot load backend 'TkAgg' which requires the 'tk' interactive framework, as 'headless' is currently running"
     ]
    }
   ],
   "source": [
    "%matplotlib inline\n",
    "import matplotlib.pyplot as plt\n",
    "from collections import defaultdict\n",
    "import matplotlib\n",
    "matplotlib.use('TkAgg')\n",
    "# Dicionário para armazenar os valores numéricos agrupados por número de barras\n",
    "valores_agrupados = defaultdict(list)\n",
    "\n",
    "# Abrir o arquivo de texto em modo de leitura\n",
    "with open('tempo.txt', 'r') as arquivo:\n",
    "    for linha in arquivo:\n",
    "        linha = linha.strip()\n",
    "        caminho, valor_str = linha.split(':')\n",
    "        valor_numerico = float(valor_str)\n",
    "        \n",
    "        # Contar o número de barras no caminho\n",
    "        numero_barras = caminho.count('/')\n",
    "        \n",
    "        # Adicionar o valor numérico ao grupo correto no dicionário\n",
    "        valores_agrupados[numero_barras].append(valor_numerico)\n",
    "\n",
    "# Calcular a média para cada grupo\n",
    "medias = {}\n",
    "for num_barras, valores in valores_agrupados.items():\n",
    "    media = sum(valores) / len(valores)\n",
    "    medias[num_barras] = media\n",
    "\n",
    "# Criar listas para os eixos do gráfico\n",
    "num_barras_lista = list(medias.keys())\n",
    "medias_lista = list(medias.values())\n",
    "\n",
    "# Criar o gráfico de barras das médias\n",
    "plt.bar(num_barras_lista, medias_lista)\n",
    "plt.xlabel('Número de Barras no Caminho')\n",
    "plt.ylabel('Média dos Valores Numéricos')\n",
    "plt.title('Média dos Valores Numéricos por Número de Barras no Caminho')\n",
    "plt.show()"
   ]
  },
  {
   "cell_type": "code",
   "execution_count": null,
   "id": "53d0c4bb-5c10-4139-9b1e-d19a6ac4bc5a",
   "metadata": {},
   "outputs": [],
   "source": []
  }
 ],
 "metadata": {
  "kernelspec": {
   "display_name": "Python 3 (ipykernel)",
   "language": "python",
   "name": "python3"
  },
  "language_info": {
   "codemirror_mode": {
    "name": "ipython",
    "version": 3
   },
   "file_extension": ".py",
   "mimetype": "text/x-python",
   "name": "python",
   "nbconvert_exporter": "python",
   "pygments_lexer": "ipython3",
   "version": "3.10.6"
  }
 },
 "nbformat": 4,
 "nbformat_minor": 5
}
